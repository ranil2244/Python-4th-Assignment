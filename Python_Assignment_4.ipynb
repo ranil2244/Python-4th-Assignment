{
  "nbformat": 4,
  "nbformat_minor": 0,
  "metadata": {
    "colab": {
      "provenance": []
    },
    "kernelspec": {
      "name": "python3",
      "display_name": "Python 3"
    },
    "language_info": {
      "name": "python"
    }
  },
  "cells": [
    {
      "cell_type": "markdown",
      "source": [
        "\n",
        "What does the len() function do in Python? Write a code example using len() to find the length of a list."
      ],
      "metadata": {
        "id": "vThHaiHkG8YK"
      }
    },
    {
      "cell_type": "code",
      "source": [
        "Fruits = [\"Apple\",\"Orange\",\"Mango\",\"Grapes\",\"Gauva\"]\n",
        "\n",
        "length_of_list = len(Fruits)\n",
        "\n",
        "print(\"The length of the list is:\", length_of_list)"
      ],
      "metadata": {
        "colab": {
          "base_uri": "https://localhost:8080/"
        },
        "id": "zkg7f0xSFycg",
        "outputId": "253abd90-1c95-4605-eed8-2c1b7889b4b5"
      },
      "execution_count": null,
      "outputs": [
        {
          "output_type": "stream",
          "name": "stdout",
          "text": [
            "The length of the list is: 5\n"
          ]
        }
      ]
    },
    {
      "cell_type": "markdown",
      "source": [
        "# ***Question 1***"
      ],
      "metadata": {
        "id": "1EzoxA9SHN8m"
      }
    },
    {
      "cell_type": "markdown",
      "source": [
        "# ***Question 2***"
      ],
      "metadata": {
        "id": "1wF0GY9AHpYT"
      }
    },
    {
      "cell_type": "markdown",
      "source": [
        "Write a Python function greet(name) that takes a person's name as input and prints \"Hello, [name]!\"."
      ],
      "metadata": {
        "id": "vrDrHAC6H1CP"
      }
    },
    {
      "cell_type": "code",
      "source": [
        "def greet():\n",
        "    print(\"Hello, Ranil k,r!\")"
      ],
      "metadata": {
        "id": "vqSyjIduO_JT"
      },
      "execution_count": null,
      "outputs": []
    },
    {
      "cell_type": "code",
      "source": [
        "greet()"
      ],
      "metadata": {
        "colab": {
          "base_uri": "https://localhost:8080/"
        },
        "id": "lapHNaanF-Dl",
        "outputId": "50044f7d-ea09-4b77-d59f-c7248e4eedfe"
      },
      "execution_count": null,
      "outputs": [
        {
          "output_type": "stream",
          "name": "stdout",
          "text": [
            "Hello, Ranil k,r!\n"
          ]
        }
      ]
    },
    {
      "cell_type": "markdown",
      "source": [
        "# *Question 3*"
      ],
      "metadata": {
        "id": "t5MgHwtHPXG5"
      }
    },
    {
      "cell_type": "markdown",
      "source": [
        "Write a Python function find_maximum(numbers) that takes a list of integers and returns the maximum value without using the built-in max() function. Use a loop to iterate through the list and compare values"
      ],
      "metadata": {
        "id": "Chjb1gc9PdYr"
      }
    },
    {
      "cell_type": "code",
      "source": [
        "def find_maximum(numbers):\n",
        "    if not numbers:\n",
        "        return None\n",
        "    max_value = numbers[0]\n",
        "\n",
        "    for number in numbers:\n",
        "        if number > max_value:\n",
        "            max_value = number\n",
        "\n",
        "    return max_value\n",
        "\n",
        "numbers = [3, 5, 1, 2, 4]\n",
        "print(find_maximum(numbers))\n"
      ],
      "metadata": {
        "colab": {
          "base_uri": "https://localhost:8080/"
        },
        "id": "UoZA2rClPUo4",
        "outputId": "f2ad54f1-19e7-4158-dd96-3e3422fbc33c"
      },
      "execution_count": null,
      "outputs": [
        {
          "output_type": "stream",
          "name": "stdout",
          "text": [
            "5\n"
          ]
        }
      ]
    },
    {
      "cell_type": "markdown",
      "source": [
        "# ***Question 4***"
      ],
      "metadata": {
        "id": "RgJscowZPpf8"
      }
    },
    {
      "cell_type": "markdown",
      "source": [
        "Explain the difference between local and global variables in a Python function. Write a program where a global variable and a local variable have the same name and show how Python differentiates between them"
      ],
      "metadata": {
        "id": "pY8zqZk9PviJ"
      }
    },
    {
      "cell_type": "code",
      "source": [
        "x = 10\n",
        "def my_function():\n",
        "    x = 20\n",
        "    print(\"Inside the function, local x:\", x)\n",
        "my_function()\n",
        "\n",
        "print(\"Outside the function, global x:\", x)"
      ],
      "metadata": {
        "colab": {
          "base_uri": "https://localhost:8080/"
        },
        "id": "GmHBYfe5Py3f",
        "outputId": "8f12a5e7-dd8b-4e58-9c49-6493f538d704"
      },
      "execution_count": null,
      "outputs": [
        {
          "output_type": "stream",
          "name": "stdout",
          "text": [
            "Inside the function, local x: 20\n",
            "Outside the function, global x: 10\n"
          ]
        }
      ]
    },
    {
      "cell_type": "markdown",
      "source": [
        "# *Question 5*"
      ],
      "metadata": {
        "id": "L_52JQ1GQB2k"
      }
    },
    {
      "cell_type": "markdown",
      "source": [
        "Create a function calculate_area(length, width=5) that calculates the area of a rectangle. If only the length is provided, the function should assume the width is 5. Show how the function behaves when called with and without the width argument."
      ],
      "metadata": {
        "id": "Ty79OhcXQTSa"
      }
    },
    {
      "cell_type": "code",
      "source": [
        "def calculate_area(length, width=5):\n",
        "    area = length * width\n",
        "    return area\n"
      ],
      "metadata": {
        "id": "3YmwGi26P4jC"
      },
      "execution_count": null,
      "outputs": []
    },
    {
      "cell_type": "code",
      "source": [
        "area_with_both = calculate_area(10, 4)\n",
        "print(\"Area with both length and width:\", area_with_both)"
      ],
      "metadata": {
        "colab": {
          "base_uri": "https://localhost:8080/"
        },
        "id": "n4FfgbuLwbL-",
        "outputId": "bdf14ac9-412b-407c-890d-03b2e9bc1eb9"
      },
      "execution_count": null,
      "outputs": [
        {
          "output_type": "stream",
          "name": "stdout",
          "text": [
            "Area with both length and width: 40\n"
          ]
        }
      ]
    },
    {
      "cell_type": "code",
      "source": [
        "area_with_default_width = calculate_area(10)\n",
        "print(\"Area with default width:\", area_with_default_width)"
      ],
      "metadata": {
        "colab": {
          "base_uri": "https://localhost:8080/"
        },
        "id": "HLypK4gjxEo6",
        "outputId": "53d4678d-8b51-4666-dbab-52ef9c846273"
      },
      "execution_count": null,
      "outputs": [
        {
          "output_type": "stream",
          "name": "stdout",
          "text": [
            "Area with default width: 50\n"
          ]
        }
      ]
    }
  ]
}